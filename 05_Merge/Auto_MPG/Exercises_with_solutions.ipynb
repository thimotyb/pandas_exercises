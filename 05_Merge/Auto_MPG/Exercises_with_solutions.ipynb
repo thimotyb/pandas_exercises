{
  "nbformat": 4,
  "nbformat_minor": 0,
  "metadata": {
    "kernelspec": {
      "display_name": "Python 3",
      "language": "python",
      "name": "python3"
    },
    "language_info": {
      "codemirror_mode": {
        "name": "ipython",
        "version": 3
      },
      "file_extension": ".py",
      "mimetype": "text/x-python",
      "name": "python",
      "nbconvert_exporter": "python",
      "pygments_lexer": "ipython3",
      "version": "3.7.1"
    },
    "colab": {
      "name": "Exercises_with_solutions.ipynb",
      "provenance": []
    }
  },
  "cells": [
    {
      "cell_type": "markdown",
      "metadata": {
        "id": "EWKdNbK88PjB"
      },
      "source": [
        "# MPG Cars"
      ]
    },
    {
      "cell_type": "markdown",
      "metadata": {
        "id": "ZYPiNUej8PjU"
      },
      "source": [
        "### Introduction:\n",
        "\n",
        "The following exercise utilizes data from [UC Irvine Machine Learning Repository](https://archive.ics.uci.edu/ml/datasets/Auto+MPG)\n",
        "\n",
        "### Step 1. Import the necessary libraries"
      ]
    },
    {
      "cell_type": "code",
      "metadata": {
        "id": "IcEDp7jz8Pjh"
      },
      "source": [
        "import pandas as pd\n",
        "import numpy as np"
      ],
      "execution_count": 1,
      "outputs": []
    },
    {
      "cell_type": "markdown",
      "metadata": {
        "id": "IESVySeu8Pjx"
      },
      "source": [
        "### Step 2. Import the first dataset [cars1](https://raw.githubusercontent.com/guipsamora/pandas_exercises/master/Merge/Auto_MPG/cars1.csv) and [cars2](https://raw.githubusercontent.com/guipsamora/pandas_exercises/master/Merge/Auto_MPG/cars2.csv).  "
      ]
    },
    {
      "cell_type": "markdown",
      "metadata": {
        "id": "cPZwREvl8Pjx"
      },
      "source": [
        "   ### Step 3. Assign each to a to a variable called cars1 and cars2"
      ]
    },
    {
      "cell_type": "code",
      "metadata": {
        "colab": {
          "base_uri": "https://localhost:8080/"
        },
        "id": "KnnYsP3w8Pjy",
        "outputId": "1e77b2f1-56e3-4f8f-bc92-1cc4ff3111eb"
      },
      "source": [
        "cars1 = pd.read_csv(\"https://raw.githubusercontent.com/guipsamora/pandas_exercises/master/05_Merge/Auto_MPG/cars1.csv\")\n",
        "cars2 = pd.read_csv(\"https://raw.githubusercontent.com/guipsamora/pandas_exercises/master/05_Merge/Auto_MPG/cars2.csv\")\n",
        "\n",
        "print(cars1.head())\n",
        "print(cars2.head())"
      ],
      "execution_count": 3,
      "outputs": [
        {
          "output_type": "stream",
          "text": [
            "    mpg  cylinders  displacement  ... Unnamed: 11  Unnamed: 12  Unnamed: 13\n",
            "0  18.0          8           307  ...         NaN          NaN          NaN\n",
            "1  15.0          8           350  ...         NaN          NaN          NaN\n",
            "2  18.0          8           318  ...         NaN          NaN          NaN\n",
            "3  16.0          8           304  ...         NaN          NaN          NaN\n",
            "4  17.0          8           302  ...         NaN          NaN          NaN\n",
            "\n",
            "[5 rows x 14 columns]\n",
            "    mpg  cylinders  displacement  ... model  origin                 car\n",
            "0  33.0          4            91  ...    76       3         honda civic\n",
            "1  20.0          6           225  ...    76       1      dodge aspen se\n",
            "2  18.0          6           250  ...    76       1   ford granada ghia\n",
            "3  18.5          6           250  ...    76       1  pontiac ventura sj\n",
            "4  17.5          6           258  ...    76       1       amc pacer d/l\n",
            "\n",
            "[5 rows x 9 columns]\n"
          ],
          "name": "stdout"
        }
      ]
    },
    {
      "cell_type": "markdown",
      "metadata": {
        "id": "Olgdmyi68Pj1"
      },
      "source": [
        "### Step 4. Ops it seems our first dataset has some unnamed blank columns, fix cars1"
      ]
    },
    {
      "cell_type": "code",
      "metadata": {
        "colab": {
          "base_uri": "https://localhost:8080/",
          "height": 203
        },
        "id": "dS4fMiEa8Pj1",
        "outputId": "2e1848af-7349-443e-f5e9-834376a9062d"
      },
      "source": [
        "cars1 = cars1.loc[:, \"mpg\":\"car\"]\n",
        "cars1.head()"
      ],
      "execution_count": 4,
      "outputs": [
        {
          "output_type": "execute_result",
          "data": {
            "text/html": [
              "<div>\n",
              "<style scoped>\n",
              "    .dataframe tbody tr th:only-of-type {\n",
              "        vertical-align: middle;\n",
              "    }\n",
              "\n",
              "    .dataframe tbody tr th {\n",
              "        vertical-align: top;\n",
              "    }\n",
              "\n",
              "    .dataframe thead th {\n",
              "        text-align: right;\n",
              "    }\n",
              "</style>\n",
              "<table border=\"1\" class=\"dataframe\">\n",
              "  <thead>\n",
              "    <tr style=\"text-align: right;\">\n",
              "      <th></th>\n",
              "      <th>mpg</th>\n",
              "      <th>cylinders</th>\n",
              "      <th>displacement</th>\n",
              "      <th>horsepower</th>\n",
              "      <th>weight</th>\n",
              "      <th>acceleration</th>\n",
              "      <th>model</th>\n",
              "      <th>origin</th>\n",
              "      <th>car</th>\n",
              "    </tr>\n",
              "  </thead>\n",
              "  <tbody>\n",
              "    <tr>\n",
              "      <th>0</th>\n",
              "      <td>18.0</td>\n",
              "      <td>8</td>\n",
              "      <td>307</td>\n",
              "      <td>130</td>\n",
              "      <td>3504</td>\n",
              "      <td>12.0</td>\n",
              "      <td>70</td>\n",
              "      <td>1</td>\n",
              "      <td>chevrolet chevelle malibu</td>\n",
              "    </tr>\n",
              "    <tr>\n",
              "      <th>1</th>\n",
              "      <td>15.0</td>\n",
              "      <td>8</td>\n",
              "      <td>350</td>\n",
              "      <td>165</td>\n",
              "      <td>3693</td>\n",
              "      <td>11.5</td>\n",
              "      <td>70</td>\n",
              "      <td>1</td>\n",
              "      <td>buick skylark 320</td>\n",
              "    </tr>\n",
              "    <tr>\n",
              "      <th>2</th>\n",
              "      <td>18.0</td>\n",
              "      <td>8</td>\n",
              "      <td>318</td>\n",
              "      <td>150</td>\n",
              "      <td>3436</td>\n",
              "      <td>11.0</td>\n",
              "      <td>70</td>\n",
              "      <td>1</td>\n",
              "      <td>plymouth satellite</td>\n",
              "    </tr>\n",
              "    <tr>\n",
              "      <th>3</th>\n",
              "      <td>16.0</td>\n",
              "      <td>8</td>\n",
              "      <td>304</td>\n",
              "      <td>150</td>\n",
              "      <td>3433</td>\n",
              "      <td>12.0</td>\n",
              "      <td>70</td>\n",
              "      <td>1</td>\n",
              "      <td>amc rebel sst</td>\n",
              "    </tr>\n",
              "    <tr>\n",
              "      <th>4</th>\n",
              "      <td>17.0</td>\n",
              "      <td>8</td>\n",
              "      <td>302</td>\n",
              "      <td>140</td>\n",
              "      <td>3449</td>\n",
              "      <td>10.5</td>\n",
              "      <td>70</td>\n",
              "      <td>1</td>\n",
              "      <td>ford torino</td>\n",
              "    </tr>\n",
              "  </tbody>\n",
              "</table>\n",
              "</div>"
            ],
            "text/plain": [
              "    mpg  cylinders  displacement  ... model  origin                        car\n",
              "0  18.0          8           307  ...    70       1  chevrolet chevelle malibu\n",
              "1  15.0          8           350  ...    70       1          buick skylark 320\n",
              "2  18.0          8           318  ...    70       1         plymouth satellite\n",
              "3  16.0          8           304  ...    70       1              amc rebel sst\n",
              "4  17.0          8           302  ...    70       1                ford torino\n",
              "\n",
              "[5 rows x 9 columns]"
            ]
          },
          "metadata": {
            "tags": []
          },
          "execution_count": 4
        }
      ]
    },
    {
      "cell_type": "markdown",
      "metadata": {
        "id": "tXw1ZMH88Pj2"
      },
      "source": [
        "### Step 5. What is the number of observations in each dataset?"
      ]
    },
    {
      "cell_type": "code",
      "metadata": {
        "colab": {
          "base_uri": "https://localhost:8080/"
        },
        "id": "_KTtT63T8Pj4",
        "outputId": "50fa97cf-1f26-43df-dc16-5f7fa3684689"
      },
      "source": [
        "print(cars1.shape)\n",
        "print(cars2.shape)"
      ],
      "execution_count": 6,
      "outputs": [
        {
          "output_type": "stream",
          "text": [
            "(198, 9)\n",
            "(200, 9)\n"
          ],
          "name": "stdout"
        }
      ]
    },
    {
      "cell_type": "markdown",
      "metadata": {
        "id": "X7Ma14MS8Pj5"
      },
      "source": [
        "### Step 6. Join cars1 and cars2 into a single DataFrame called cars"
      ]
    },
    {
      "cell_type": "code",
      "metadata": {
        "colab": {
          "base_uri": "https://localhost:8080/",
          "height": 417
        },
        "id": "JtayVQGD8Pj5",
        "outputId": "c21d3e7d-f3c6-4403-eb5c-864fc2f3e836"
      },
      "source": [
        "cars = cars1.append(cars2)\n",
        "cars"
      ],
      "execution_count": 7,
      "outputs": [
        {
          "output_type": "execute_result",
          "data": {
            "text/html": [
              "<div>\n",
              "<style scoped>\n",
              "    .dataframe tbody tr th:only-of-type {\n",
              "        vertical-align: middle;\n",
              "    }\n",
              "\n",
              "    .dataframe tbody tr th {\n",
              "        vertical-align: top;\n",
              "    }\n",
              "\n",
              "    .dataframe thead th {\n",
              "        text-align: right;\n",
              "    }\n",
              "</style>\n",
              "<table border=\"1\" class=\"dataframe\">\n",
              "  <thead>\n",
              "    <tr style=\"text-align: right;\">\n",
              "      <th></th>\n",
              "      <th>mpg</th>\n",
              "      <th>cylinders</th>\n",
              "      <th>displacement</th>\n",
              "      <th>horsepower</th>\n",
              "      <th>weight</th>\n",
              "      <th>acceleration</th>\n",
              "      <th>model</th>\n",
              "      <th>origin</th>\n",
              "      <th>car</th>\n",
              "    </tr>\n",
              "  </thead>\n",
              "  <tbody>\n",
              "    <tr>\n",
              "      <th>0</th>\n",
              "      <td>18.0</td>\n",
              "      <td>8</td>\n",
              "      <td>307</td>\n",
              "      <td>130</td>\n",
              "      <td>3504</td>\n",
              "      <td>12.0</td>\n",
              "      <td>70</td>\n",
              "      <td>1</td>\n",
              "      <td>chevrolet chevelle malibu</td>\n",
              "    </tr>\n",
              "    <tr>\n",
              "      <th>1</th>\n",
              "      <td>15.0</td>\n",
              "      <td>8</td>\n",
              "      <td>350</td>\n",
              "      <td>165</td>\n",
              "      <td>3693</td>\n",
              "      <td>11.5</td>\n",
              "      <td>70</td>\n",
              "      <td>1</td>\n",
              "      <td>buick skylark 320</td>\n",
              "    </tr>\n",
              "    <tr>\n",
              "      <th>2</th>\n",
              "      <td>18.0</td>\n",
              "      <td>8</td>\n",
              "      <td>318</td>\n",
              "      <td>150</td>\n",
              "      <td>3436</td>\n",
              "      <td>11.0</td>\n",
              "      <td>70</td>\n",
              "      <td>1</td>\n",
              "      <td>plymouth satellite</td>\n",
              "    </tr>\n",
              "    <tr>\n",
              "      <th>3</th>\n",
              "      <td>16.0</td>\n",
              "      <td>8</td>\n",
              "      <td>304</td>\n",
              "      <td>150</td>\n",
              "      <td>3433</td>\n",
              "      <td>12.0</td>\n",
              "      <td>70</td>\n",
              "      <td>1</td>\n",
              "      <td>amc rebel sst</td>\n",
              "    </tr>\n",
              "    <tr>\n",
              "      <th>4</th>\n",
              "      <td>17.0</td>\n",
              "      <td>8</td>\n",
              "      <td>302</td>\n",
              "      <td>140</td>\n",
              "      <td>3449</td>\n",
              "      <td>10.5</td>\n",
              "      <td>70</td>\n",
              "      <td>1</td>\n",
              "      <td>ford torino</td>\n",
              "    </tr>\n",
              "    <tr>\n",
              "      <th>...</th>\n",
              "      <td>...</td>\n",
              "      <td>...</td>\n",
              "      <td>...</td>\n",
              "      <td>...</td>\n",
              "      <td>...</td>\n",
              "      <td>...</td>\n",
              "      <td>...</td>\n",
              "      <td>...</td>\n",
              "      <td>...</td>\n",
              "    </tr>\n",
              "    <tr>\n",
              "      <th>195</th>\n",
              "      <td>27.0</td>\n",
              "      <td>4</td>\n",
              "      <td>140</td>\n",
              "      <td>86</td>\n",
              "      <td>2790</td>\n",
              "      <td>15.6</td>\n",
              "      <td>82</td>\n",
              "      <td>1</td>\n",
              "      <td>ford mustang gl</td>\n",
              "    </tr>\n",
              "    <tr>\n",
              "      <th>196</th>\n",
              "      <td>44.0</td>\n",
              "      <td>4</td>\n",
              "      <td>97</td>\n",
              "      <td>52</td>\n",
              "      <td>2130</td>\n",
              "      <td>24.6</td>\n",
              "      <td>82</td>\n",
              "      <td>2</td>\n",
              "      <td>vw pickup</td>\n",
              "    </tr>\n",
              "    <tr>\n",
              "      <th>197</th>\n",
              "      <td>32.0</td>\n",
              "      <td>4</td>\n",
              "      <td>135</td>\n",
              "      <td>84</td>\n",
              "      <td>2295</td>\n",
              "      <td>11.6</td>\n",
              "      <td>82</td>\n",
              "      <td>1</td>\n",
              "      <td>dodge rampage</td>\n",
              "    </tr>\n",
              "    <tr>\n",
              "      <th>198</th>\n",
              "      <td>28.0</td>\n",
              "      <td>4</td>\n",
              "      <td>120</td>\n",
              "      <td>79</td>\n",
              "      <td>2625</td>\n",
              "      <td>18.6</td>\n",
              "      <td>82</td>\n",
              "      <td>1</td>\n",
              "      <td>ford ranger</td>\n",
              "    </tr>\n",
              "    <tr>\n",
              "      <th>199</th>\n",
              "      <td>31.0</td>\n",
              "      <td>4</td>\n",
              "      <td>119</td>\n",
              "      <td>82</td>\n",
              "      <td>2720</td>\n",
              "      <td>19.4</td>\n",
              "      <td>82</td>\n",
              "      <td>1</td>\n",
              "      <td>chevy s-10</td>\n",
              "    </tr>\n",
              "  </tbody>\n",
              "</table>\n",
              "<p>398 rows × 9 columns</p>\n",
              "</div>"
            ],
            "text/plain": [
              "      mpg  cylinders  displacement  ... model  origin                        car\n",
              "0    18.0          8           307  ...    70       1  chevrolet chevelle malibu\n",
              "1    15.0          8           350  ...    70       1          buick skylark 320\n",
              "2    18.0          8           318  ...    70       1         plymouth satellite\n",
              "3    16.0          8           304  ...    70       1              amc rebel sst\n",
              "4    17.0          8           302  ...    70       1                ford torino\n",
              "..    ...        ...           ...  ...   ...     ...                        ...\n",
              "195  27.0          4           140  ...    82       1            ford mustang gl\n",
              "196  44.0          4            97  ...    82       2                  vw pickup\n",
              "197  32.0          4           135  ...    82       1              dodge rampage\n",
              "198  28.0          4           120  ...    82       1                ford ranger\n",
              "199  31.0          4           119  ...    82       1                 chevy s-10\n",
              "\n",
              "[398 rows x 9 columns]"
            ]
          },
          "metadata": {
            "tags": []
          },
          "execution_count": 7
        }
      ]
    },
    {
      "cell_type": "markdown",
      "metadata": {
        "id": "s9rtye_e8Pj7"
      },
      "source": [
        "### Step 7. Ops there is a column missing, called owners. Create a random number Series from 15,000 to 73,000."
      ]
    },
    {
      "cell_type": "code",
      "metadata": {
        "colab": {
          "base_uri": "https://localhost:8080/"
        },
        "id": "drxg86wv8Pj8",
        "outputId": "78990981-9728-4d13-a5e5-70e1fc48ce57"
      },
      "source": [
        "nr_owners = np.random.randint(15000, high=73001, size=398, dtype='l')\n",
        "nr_owners"
      ],
      "execution_count": 8,
      "outputs": [
        {
          "output_type": "execute_result",
          "data": {
            "text/plain": [
              "array([64692, 45577, 25424, 26374, 63330, 45100, 65804, 35608, 58399,\n",
              "       59205, 39594, 48385, 52309, 50194, 68381, 18249, 65922, 40529,\n",
              "       66957, 44864, 20876, 21210, 59979, 47451, 47004, 61383, 29184,\n",
              "       30994, 50058, 66601, 56082, 26528, 27861, 16436, 48878, 60375,\n",
              "       58146, 42657, 15654, 60278, 57419, 16776, 32709, 49829, 55080,\n",
              "       48618, 58072, 52912, 50461, 47945, 51205, 15173, 55935, 68934,\n",
              "       57013, 64547, 44502, 25803, 71133, 38786, 22792, 53510, 22414,\n",
              "       19900, 53725, 57290, 17478, 29083, 52211, 30987, 66433, 30505,\n",
              "       39435, 28031, 51295, 67154, 49050, 72583, 54607, 64896, 61121,\n",
              "       56587, 67344, 59310, 47197, 46600, 32608, 45313, 16968, 51290,\n",
              "       36211, 26321, 23509, 37063, 62823, 20679, 15372, 71009, 64471,\n",
              "       48030, 45306, 43157, 59866, 49637, 43389, 27965, 42916, 23946,\n",
              "       46913, 28839, 48241, 71931, 39208, 23615, 56667, 29461, 29642,\n",
              "       42145, 23174, 44040, 55186, 41611, 70142, 38062, 23786, 50663,\n",
              "       72466, 70269, 19726, 45009, 34086, 27941, 40528, 38431, 68210,\n",
              "       62357, 39665, 34380, 67202, 66942, 25243, 71342, 71932, 38282,\n",
              "       33269, 26687, 43858, 44356, 68926, 19112, 17791, 63924, 27654,\n",
              "       39218, 59171, 24765, 26817, 64869, 70392, 68169, 20308, 56802,\n",
              "       19537, 46668, 72119, 62974, 21200, 35325, 35183, 52104, 49801,\n",
              "       18762, 20315, 68122, 70723, 70351, 22596, 36859, 57687, 22351,\n",
              "       34797, 38439, 35336, 19870, 29699, 72240, 66402, 50303, 39413,\n",
              "       67006, 63460, 39016, 58856, 25913, 19486, 33671, 28012, 20053,\n",
              "       19067, 42450, 64572, 58538, 33526, 32029, 15396, 30429, 28750,\n",
              "       50004, 23899, 70374, 25183, 28612, 36593, 17495, 20632, 63225,\n",
              "       22220, 67175, 52824, 31531, 47622, 15858, 32451, 47362, 23479,\n",
              "       47191, 35917, 15850, 34229, 57419, 39351, 69842, 60472, 28004,\n",
              "       45271, 52910, 26705, 18361, 70806, 36517, 27038, 55271, 62771,\n",
              "       56185, 54316, 59136, 55911, 18693, 56241, 43380, 51032, 33918,\n",
              "       71905, 34351, 38556, 21923, 54245, 31972, 67231, 21042, 58874,\n",
              "       40107, 28017, 36314, 65680, 16619, 32211, 65814, 59772, 29498,\n",
              "       63906, 35216, 34359, 59671, 29452, 41624, 26345, 62667, 32588,\n",
              "       31737, 21733, 51403, 42050, 58954, 42037, 43203, 58471, 32681,\n",
              "       67611, 24872, 38980, 30093, 17724, 45003, 43439, 48268, 33025,\n",
              "       54481, 51835, 66433, 41260, 54819, 32126, 54141, 33225, 60828,\n",
              "       53229, 60982, 61464, 63493, 25679, 15212, 53277, 40244, 63844,\n",
              "       17407, 19238, 18840, 64434, 67461, 18543, 64422, 22011, 67090,\n",
              "       34240, 72632, 32304, 61351, 62864, 38014, 29596, 16316, 50052,\n",
              "       20934, 39371, 44759, 27559, 18260, 66869, 56652, 63724, 48547,\n",
              "       42070, 21299, 23868, 15491, 41833, 41094, 64435, 61436, 54478,\n",
              "       35344, 57201, 26184, 69231, 25159, 72722, 40566, 17301, 57438,\n",
              "       41663, 19824, 23323, 37832, 32511, 59790, 59503, 43513, 38286,\n",
              "       17687, 64507, 41109, 30749, 70227, 32010, 25164, 44480, 44243,\n",
              "       18712, 49701, 22879, 65028, 68239, 26538, 59783, 24408, 17496,\n",
              "       65289, 69395, 70756, 60335, 55686, 22356, 66380, 20058, 55299,\n",
              "       21460, 49990])"
            ]
          },
          "metadata": {
            "tags": []
          },
          "execution_count": 8
        }
      ]
    },
    {
      "cell_type": "markdown",
      "metadata": {
        "id": "4C9ufa638Pj9"
      },
      "source": [
        "### Step 8. Add the column owners to cars"
      ]
    },
    {
      "cell_type": "code",
      "metadata": {
        "colab": {
          "base_uri": "https://localhost:8080/",
          "height": 203
        },
        "id": "BjTrWgMT8PkE",
        "outputId": "0b771cc0-8082-4df6-e17b-e7a633f2c414"
      },
      "source": [
        "cars['owners'] = nr_owners\n",
        "cars.tail()"
      ],
      "execution_count": 9,
      "outputs": [
        {
          "output_type": "execute_result",
          "data": {
            "text/html": [
              "<div>\n",
              "<style scoped>\n",
              "    .dataframe tbody tr th:only-of-type {\n",
              "        vertical-align: middle;\n",
              "    }\n",
              "\n",
              "    .dataframe tbody tr th {\n",
              "        vertical-align: top;\n",
              "    }\n",
              "\n",
              "    .dataframe thead th {\n",
              "        text-align: right;\n",
              "    }\n",
              "</style>\n",
              "<table border=\"1\" class=\"dataframe\">\n",
              "  <thead>\n",
              "    <tr style=\"text-align: right;\">\n",
              "      <th></th>\n",
              "      <th>mpg</th>\n",
              "      <th>cylinders</th>\n",
              "      <th>displacement</th>\n",
              "      <th>horsepower</th>\n",
              "      <th>weight</th>\n",
              "      <th>acceleration</th>\n",
              "      <th>model</th>\n",
              "      <th>origin</th>\n",
              "      <th>car</th>\n",
              "      <th>owners</th>\n",
              "    </tr>\n",
              "  </thead>\n",
              "  <tbody>\n",
              "    <tr>\n",
              "      <th>195</th>\n",
              "      <td>27.0</td>\n",
              "      <td>4</td>\n",
              "      <td>140</td>\n",
              "      <td>86</td>\n",
              "      <td>2790</td>\n",
              "      <td>15.6</td>\n",
              "      <td>82</td>\n",
              "      <td>1</td>\n",
              "      <td>ford mustang gl</td>\n",
              "      <td>66380</td>\n",
              "    </tr>\n",
              "    <tr>\n",
              "      <th>196</th>\n",
              "      <td>44.0</td>\n",
              "      <td>4</td>\n",
              "      <td>97</td>\n",
              "      <td>52</td>\n",
              "      <td>2130</td>\n",
              "      <td>24.6</td>\n",
              "      <td>82</td>\n",
              "      <td>2</td>\n",
              "      <td>vw pickup</td>\n",
              "      <td>20058</td>\n",
              "    </tr>\n",
              "    <tr>\n",
              "      <th>197</th>\n",
              "      <td>32.0</td>\n",
              "      <td>4</td>\n",
              "      <td>135</td>\n",
              "      <td>84</td>\n",
              "      <td>2295</td>\n",
              "      <td>11.6</td>\n",
              "      <td>82</td>\n",
              "      <td>1</td>\n",
              "      <td>dodge rampage</td>\n",
              "      <td>55299</td>\n",
              "    </tr>\n",
              "    <tr>\n",
              "      <th>198</th>\n",
              "      <td>28.0</td>\n",
              "      <td>4</td>\n",
              "      <td>120</td>\n",
              "      <td>79</td>\n",
              "      <td>2625</td>\n",
              "      <td>18.6</td>\n",
              "      <td>82</td>\n",
              "      <td>1</td>\n",
              "      <td>ford ranger</td>\n",
              "      <td>21460</td>\n",
              "    </tr>\n",
              "    <tr>\n",
              "      <th>199</th>\n",
              "      <td>31.0</td>\n",
              "      <td>4</td>\n",
              "      <td>119</td>\n",
              "      <td>82</td>\n",
              "      <td>2720</td>\n",
              "      <td>19.4</td>\n",
              "      <td>82</td>\n",
              "      <td>1</td>\n",
              "      <td>chevy s-10</td>\n",
              "      <td>49990</td>\n",
              "    </tr>\n",
              "  </tbody>\n",
              "</table>\n",
              "</div>"
            ],
            "text/plain": [
              "      mpg  cylinders  displacement  ... origin              car  owners\n",
              "195  27.0          4           140  ...      1  ford mustang gl   66380\n",
              "196  44.0          4            97  ...      2        vw pickup   20058\n",
              "197  32.0          4           135  ...      1    dodge rampage   55299\n",
              "198  28.0          4           120  ...      1      ford ranger   21460\n",
              "199  31.0          4           119  ...      1       chevy s-10   49990\n",
              "\n",
              "[5 rows x 10 columns]"
            ]
          },
          "metadata": {
            "tags": []
          },
          "execution_count": 9
        }
      ]
    }
  ]
}